{
  "nbformat": 4,
  "nbformat_minor": 0,
  "metadata": {
    "colab": {
      "name": "session1.ipynb",
      "provenance": []
    },
    "kernelspec": {
      "name": "python3",
      "display_name": "Python 3"
    }
  },
  "cells": [
    {
      "cell_type": "code",
      "metadata": {
        "id": "AfeFWmtGJwY-",
        "colab_type": "code",
        "outputId": "35e4a5b7-68dd-4ebb-a743-8538dec7bdb4",
        "colab": {
          "base_uri": "https://localhost:8080/",
          "height": 85
        }
      },
      "source": [
        "# task 1 - (list)\n",
        "x=list(range(10))\n",
        "print(x)\n",
        "#part 1.1\n",
        "y=x[::-1]\n",
        "print(y)\n",
        "#part1.2\n",
        "y=x[-5:]\n",
        "print(y)\n",
        "#part 1.3\n",
        "del x[-3]\n",
        "print(x)"
      ],
      "execution_count": 36,
      "outputs": [
        {
          "output_type": "stream",
          "text": [
            "[0, 1, 2, 3, 4, 5, 6, 7, 8, 9]\n",
            "[9, 8, 7, 6, 5, 4, 3, 2, 1, 0]\n",
            "[5, 6, 7, 8, 9]\n",
            "[0, 1, 2, 3, 4, 5, 6, 8, 9]\n"
          ],
          "name": "stdout"
        }
      ]
    },
    {
      "cell_type": "code",
      "metadata": {
        "id": "yB0PHGprJ-nq",
        "colab_type": "code",
        "outputId": "0a7987c6-ee8c-4c37-ffdc-97b90424317e",
        "colab": {
          "base_uri": "https://localhost:8080/",
          "height": 85
        }
      },
      "source": [
        "# task 2 - (dict)\n",
        "z = dict([(pow(10,r),r) for r in range(10)])\n",
        "#part 2.1\n",
        "print(z.keys())\n",
        "#part 2.2\n",
        "del z[100]\n",
        "print(z)\n",
        "#part 2.3\n",
        "listz=[(k, v) for k, v in z.items()]\n",
        "print(listz)\n",
        "def sorter(a):\n",
        "    return a[0]%101\n",
        "listz.sort(key=sorter)\n",
        "print(listz)"
      ],
      "execution_count": 42,
      "outputs": [
        {
          "output_type": "stream",
          "text": [
            "dict_keys([1, 10, 100, 1000, 10000, 100000, 1000000, 10000000, 100000000, 1000000000])\n",
            "{1: 0, 10: 1, 1000: 3, 10000: 4, 100000: 5, 1000000: 6, 10000000: 7, 100000000: 8, 1000000000: 9}\n",
            "[(1, 0), (10, 1), (1000, 3), (10000, 4), (100000, 5), (1000000, 6), (10000000, 7), (100000000, 8), (1000000000, 9)]\n",
            "[(1, 0), (10000, 4), (100000000, 8), (10, 1), (100000, 5), (1000000000, 9), (1000, 3), (10000000, 7), (1000000, 6)]\n"
          ],
          "name": "stdout"
        }
      ]
    },
    {
      "cell_type": "code",
      "metadata": {
        "id": "vJ-TA4hYKZeN",
        "colab_type": "code",
        "colab": {}
      },
      "source": [
        "import numpy as np"
      ],
      "execution_count": 0,
      "outputs": []
    },
    {
      "cell_type": "code",
      "metadata": {
        "id": "BbF9VWWAocN2",
        "colab_type": "code",
        "colab": {
          "base_uri": "https://localhost:8080/",
          "height": 68
        },
        "outputId": "94b98f46-0b1a-43e1-aa80-c18f65dc691e"
      },
      "source": [
        "#task 3 - (matrix)\n",
        "a = np.random.randn(3,3)\n",
        "print(a)"
      ],
      "execution_count": 21,
      "outputs": [
        {
          "output_type": "stream",
          "text": [
            "[[-0.25985318 -0.02257011 -1.60629988]\n",
            " [ 0.56685164  1.2273377  -0.69640183]\n",
            " [ 0.72419348  0.02325415 -0.02644335]]\n"
          ],
          "name": "stdout"
        }
      ]
    },
    {
      "cell_type": "code",
      "metadata": {
        "id": "oWF-wf_W-TMi",
        "colab_type": "code",
        "colab": {
          "base_uri": "https://localhost:8080/",
          "height": 68
        },
        "outputId": "87420604-e2d1-414b-9f1f-b07bb2d27584"
      },
      "source": [
        "#find inverse\n",
        "u,d,v=np.linalg.svd(a)\n",
        "inva = v.T @ np.diag(1/d) @ u.T\n",
        "print(\"inva = \",inva)"
      ],
      "execution_count": 22,
      "outputs": [
        {
          "output_type": "stream",
          "text": [
            "inva =  [[-0.0114365  -0.02669105  1.39763486]\n",
            " [-0.34416379  0.82298765 -0.76767324]\n",
            " [-0.61586282 -0.00724595 -0.2153106 ]]\n"
          ],
          "name": "stdout"
        }
      ]
    },
    {
      "cell_type": "code",
      "metadata": {
        "id": "cf3eG9Gg_WFY",
        "colab_type": "code",
        "colab": {
          "base_uri": "https://localhost:8080/",
          "height": 136
        },
        "outputId": "e19ade84-27d2-4181-b8b5-b6a53272f11d"
      },
      "source": [
        "#verify task 3\n",
        "print(a@inva)\n",
        "print(np.eye(3))\n",
        "np.allclose(a@inva,np.eye(3))"
      ],
      "execution_count": 30,
      "outputs": [
        {
          "output_type": "stream",
          "text": [
            "[[ 1.00000000e+00  3.18887806e-16 -3.55949619e-16]\n",
            " [-7.67886221e-17  1.00000000e+00 -4.63607533e-17]\n",
            " [-8.02302344e-17 -6.33016642e-17  1.00000000e+00]]\n",
            "[[1. 0. 0.]\n",
            " [0. 1. 0.]\n",
            " [0. 0. 1.]]\n"
          ],
          "name": "stdout"
        },
        {
          "output_type": "execute_result",
          "data": {
            "text/plain": [
              "True"
            ]
          },
          "metadata": {
            "tags": []
          },
          "execution_count": 30
        }
      ]
    },
    {
      "cell_type": "code",
      "metadata": {
        "id": "DlxaHxqjos6N",
        "colab_type": "code",
        "outputId": "222e4d6e-3022-44bd-d93a-0ea6ba6406c3",
        "colab": {
          "base_uri": "https://localhost:8080/",
          "height": 34
        }
      },
      "source": [
        "import matplotlib.pyplot as plt\n"
      ],
      "execution_count": 31,
      "outputs": [
        {
          "output_type": "stream",
          "text": [
            "Using matplotlib backend: agg\n"
          ],
          "name": "stdout"
        }
      ]
    },
    {
      "cell_type": "code",
      "metadata": {
        "id": "EwhVIFQGpAfu",
        "colab_type": "code",
        "colab": {
          "base_uri": "https://localhost:8080/",
          "height": 279
        },
        "outputId": "1b59362b-649b-4943-a229-3909d1617174"
      },
      "source": [
        "#task4 -(matplot)\n",
        "%matplotlib inline\n",
        "x=np.arange(0,3*np.pi,0.1)\n",
        "y=np.sin(x)\n",
        "plt.plot(x,y, label=\"plt.plot\")\n",
        "plt.scatter(x,y,color=\"red\",label =\"plt.scatter\")\n",
        "plt.xlabel(\"X axis\")\n",
        "plt.ylabel(\"Y axis\")\n",
        "plt.legend(loc = \"lower left\")\n",
        "plt.show()"
      ],
      "execution_count": 39,
      "outputs": [
        {
          "output_type": "display_data",
          "data": {
            "image/png": "[encoded data removed]",
            "text/plain": [
              "<Figure size 432x288 with 1 Axes>"
            ]
          },
          "metadata": {
            "tags": [],
            "needs_background": "light"
          }
        }
      ]
    },
    {
      "cell_type": "code",
      "metadata": {
        "id": "d_CzRD7epljl",
        "colab_type": "code",
        "colab": {}
      },
      "source": [
        ""
      ],
      "execution_count": 0,
      "outputs": []
    }
  ]
}