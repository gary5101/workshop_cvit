{
  "nbformat": 4,
  "nbformat_minor": 0,
  "metadata": {
    "colab": {
      "name": "PerceptronMnist.ipynb",
      "provenance": []
    },
    "kernelspec": {
      "name": "python3",
      "display_name": "Python 3"
    }
  },
  "cells": [
    {
      "cell_type": "code",
      "metadata": {
        "id": "oOiMc9Jlf1Uu",
        "colab_type": "code",
        "colab": {}
      },
      "source": [
        "from keras.datasets import mnist\n",
        "\n",
        "(x_train, y_train), (x_test, y_test) = mnist.load_data()"
      ],
      "execution_count": 0,
      "outputs": []
    },
    {
      "cell_type": "code",
      "metadata": {
        "id": "0pd1iaB3hbXp",
        "colab_type": "code",
        "colab": {}
      },
      "source": [
        "import numpy as np"
      ],
      "execution_count": 0,
      "outputs": []
    },
    {
      "cell_type": "code",
      "metadata": {
        "id": "gwiP3YLzgmKl",
        "colab_type": "code",
        "outputId": "83ee2d33-c9b0-4ad6-bffe-42227d63f709",
        "colab": {
          "base_uri": "https://localhost:8080/",
          "height": 51
        }
      },
      "source": [
        "print(\"Training data shape: \", x_train.shape) # (60000, 28, 28) -- 60000 images, each 28x28 pixels\n",
        "print(\"Test data shape\", x_test.shape) # (10000, 28, 28) -- 10000 images, each 28x28\n",
        "\n",
        "# Flatten the images\n",
        "image_vector_size = 28*28\n",
        "x_train = x_train.reshape(x_train.shape[0], image_vector_size)\n",
        "x_test = x_test.reshape(x_test.shape[0], image_vector_size)"
      ],
      "execution_count": 5,
      "outputs": [
        {
          "output_type": "stream",
          "text": [
            "Training data shape:  (60000, 28, 28)\n",
            "Test data shape (10000, 28, 28)\n"
          ],
          "name": "stdout"
        }
      ]
    },
    {
      "cell_type": "code",
      "metadata": {
        "id": "4ItrFUYEg7SI",
        "colab_type": "code",
        "outputId": "be673be8-8af9-4bc4-dcf7-8c0189752024",
        "colab": {
          "base_uri": "https://localhost:8080/",
          "height": 51
        }
      },
      "source": [
        "print(\"Training data shape: \", x_train.shape) # (60000, 28, 28) -- 60000 images, each 28x28 pixels\n",
        "print(\"Test data shape\", x_test.shape) # (10000, 28, 28) -- 10000 images, each 28x28"
      ],
      "execution_count": 6,
      "outputs": [
        {
          "output_type": "stream",
          "text": [
            "Training data shape:  (60000, 784)\n",
            "Test data shape (10000, 784)\n"
          ],
          "name": "stdout"
        }
      ]
    },
    {
      "cell_type": "code",
      "metadata": {
        "id": "UJ_MWm4wg7ix",
        "colab_type": "code",
        "colab": {}
      },
      "source": [
        "# Function to extract the classes\n",
        "def extract_2classes(class0, class1, X, Y):\n",
        "    # Select class #0\n",
        "    X_0 = X[Y == class0]\n",
        "    Y_0 = Y[Y == class0]\n",
        "    # Select class #1\n",
        "    X_1 = X[Y == class1]\n",
        "    Y_1 = Y[Y == class1]\n",
        "    # Join the two classes to make the set\n",
        "    X_2classes = np.vstack((X_0, X_1))\n",
        "    Y_2classes = np.append(Y_0, Y_1)\n",
        "    return X_2classes, Y_2classes"
      ],
      "execution_count": 0,
      "outputs": []
    },
    {
      "cell_type": "code",
      "metadata": {
        "id": "fG-YcWSuhKI9",
        "colab_type": "code",
        "colab": {}
      },
      "source": [
        "X_train_2classes, Y_train_2classes = extract_2classes(5, 7, x_train, y_train)\n",
        "X_test_2classes, Y_test_2classes = extract_2classes(5, 7,x_test, y_test)"
      ],
      "execution_count": 0,
      "outputs": []
    },
    {
      "cell_type": "code",
      "metadata": {
        "id": "exespOWBjDx_",
        "colab_type": "code",
        "outputId": "eb00cb1c-7d28-42ac-a8dc-5cc4887a5a16",
        "colab": {
          "base_uri": "https://localhost:8080/",
          "height": 51
        }
      },
      "source": [
        "print(\"Training data shape: \", X_train_2classes.shape) # (60000, 28, 28) -- 60000 images, each 28x28 pixels\n",
        "print(\"Test data shape\", X_test_2classes.shape) # (10000, 28, 28) -- 10000 images, each 28x28"
      ],
      "execution_count": 9,
      "outputs": [
        {
          "output_type": "stream",
          "text": [
            "Training data shape:  (11686, 784)\n",
            "Test data shape (1920, 784)\n"
          ],
          "name": "stdout"
        }
      ]
    },
    {
      "cell_type": "code",
      "metadata": {
        "id": "_qhlgfoEh3KP",
        "colab_type": "code",
        "colab": {}
      },
      "source": [
        "from sklearn.metrics import accuracy_score\n",
        "from sklearn.linear_model import Perceptron\n",
        "\n",
        "def predict(train_features,test_features,train_labels): \n",
        "    clf = Perceptron(tol=1e-3, random_state=0)\n",
        "    # Fitting the data into the model\n",
        "    clf.fit(train_features, train_labels)\n",
        "    # Predicting the labels for test data\n",
        "    predicted_values = clf.predict(test_features)\n",
        "    return predicted_values\n",
        "    \n",
        "def calc_accuracy(train_features,test_features,train_labels,test_labels):\n",
        "    # Calling predict function to get the predicted labels of test data\n",
        "    pred = predict(train_features,test_features,train_labels)\n",
        "    return accuracy_score(pred, test_labels)\n",
        "  "
      ],
      "execution_count": 0,
      "outputs": []
    },
    {
      "cell_type": "code",
      "metadata": {
        "id": "eh2H-ZgFh9JW",
        "colab_type": "code",
        "outputId": "0547df3a-ea5e-46b7-b853-c4f3fe3b6e2f",
        "colab": {
          "base_uri": "https://localhost:8080/",
          "height": 34
        }
      },
      "source": [
        "calc_accuracy(X_train_2classes,X_test_2classes,Y_train_2classes,Y_test_2classes)"
      ],
      "execution_count": 11,
      "outputs": [
        {
          "output_type": "execute_result",
          "data": {
            "text/plain": [
              "0.9895833333333334"
            ]
          },
          "metadata": {
            "tags": []
          },
          "execution_count": 11
        }
      ]
    },
    {
      "cell_type": "code",
      "metadata": {
        "id": "Tg89SZid_GY9",
        "colab_type": "code",
        "colab": {
          "base_uri": "https://localhost:8080/",
          "height": 34
        },
        "outputId": "6e0005e2-7bd1-418f-96f6-157f3e78a885"
      },
      "source": [
        "X_2classes=np.concatenate((X_test_2classes,X_train_2classes),axis=0)\n",
        "Y_2classes=np.concatenate((Y_test_2classes,Y_train_2classes),axis=0)\n",
        "X_2classes.shape,Y_2classes.shape"
      ],
      "execution_count": 17,
      "outputs": [
        {
          "output_type": "execute_result",
          "data": {
            "text/plain": [
              "((13606, 784), (13606,))"
            ]
          },
          "metadata": {
            "tags": []
          },
          "execution_count": 17
        }
      ]
    },
    {
      "cell_type": "code",
      "metadata": {
        "id": "0GllV2y9-2q9",
        "colab_type": "code",
        "colab": {}
      },
      "source": [
        "from sklearn.model_selection import KFold\n",
        "def kvalid(k):\n",
        "  kf = KFold(n_splits=k)\n",
        "  accuracy_score_train=0\n",
        "  accuracy_score_test=0\n",
        "  count=0\n",
        "  for train_index, test_index in kf.split(X_2classes):\n",
        "    X_train, X_test = X_2classes[train_index], X_2classes[test_index]\n",
        "    y_train, y_test = Y_2classes[train_index], Y_2classes[test_index]\n",
        "    count+=1\n",
        "    calc_train=calc_accuracy(X_train,X_train,y_train,y_train)\n",
        "    calc_test=calc_accuracy(X_train,X_test,y_train,y_test)\n",
        "    accuracy_score_train+=calc_train\n",
        "    accuracy_score_test+=calc_test\n",
        "  return accuracy_score_train/count,accuracy_score_test/count"
      ],
      "execution_count": 0,
      "outputs": []
    },
    {
      "cell_type": "code",
      "metadata": {
        "id": "fap3M-YhBsuT",
        "colab_type": "code",
        "colab": {
          "base_uri": "https://localhost:8080/",
          "height": 265
        },
        "outputId": "6966adb5-9e3e-495d-fa7a-897f4f5d404b"
      },
      "source": [
        "import matplotlib.pyplot as plt\n",
        "acc_train=[]\n",
        "acc_test=[]\n",
        "for i in range(2,11):\n",
        "  acc_train_,acc_test_=kvalid(i)\n",
        "  acc_train.append(acc_train_)\n",
        "  acc_test.append(acc_test_)\n",
        "tr=plt.scatter(range(2,11),acc_train,color='red')\n",
        "te=plt.scatter(range(2,11),acc_test,color='blue')\n",
        "plt.legend((tr,te),(\"train\",\"test\"),loc=\"lower right\")\n",
        "plt.show()\n"
      ],
      "execution_count": 57,
      "outputs": [
        {
          "output_type": "display_data",
          "data": {
            "image/png": "[encoded data removed]",
            "text/plain": [
              "<Figure size 432x288 with 1 Axes>"
            ]
          },
          "metadata": {
            "tags": [],
            "needs_background": "light"
          }
        }
      ]
    },
    {
      "cell_type": "code",
      "metadata": {
        "id": "YGrUJA0jFVRq",
        "colab_type": "code",
        "colab": {}
      },
      "source": [
        ""
      ],
      "execution_count": 0,
      "outputs": []
    }
  ]
}